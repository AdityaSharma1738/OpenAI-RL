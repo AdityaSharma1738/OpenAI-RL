{
  "cells": [
    {
      "cell_type": "markdown",
      "metadata": {
        "id": "view-in-github",
        "colab_type": "text"
      },
      "source": [
        "<a href=\"https://colab.research.google.com/github/AdityaSharma1738/OpenAI-Reinforcement-Learning-Algorithm/blob/main/openAI_QLearning.ipynb\" target=\"_parent\"><img src=\"https://colab.research.google.com/assets/colab-badge.svg\" alt=\"Open In Colab\"/></a>"
      ]
    },
    {
      "cell_type": "code",
      "execution_count": null,
      "id": "5dbe62cf",
      "metadata": {
        "id": "5dbe62cf"
      },
      "outputs": [],
      "source": [
        "import numpy as np\n",
        "import gym\n",
        "import matplotlib.pyplot as plt"
      ]
    },
    {
      "cell_type": "code",
      "execution_count": null,
      "id": "77c20141",
      "metadata": {
        "id": "77c20141"
      },
      "outputs": [],
      "source": [
        "pos_grid = np.linspace(-1.2, 0.6, 15)\n",
        "vel_grid = np.linspace(-0.07, 0.07, 20)\n",
        "def discretize0(obs, pos_grid, vel_grid):\n",
        "    obs0 = obs[0]\n",
        "    pos = obs0[0]\n",
        "    vel = obs0[1]\n",
        "    pos_dis = (np.digitize(pos, pos_grid))\n",
        "    vel_dis = (np.digitize(vel, vel_grid))\n",
        "    return (pos_dis, vel_dis)\n",
        "\n",
        "def discretize(obs, pos_grid, vel_grid):\n",
        "    pos = obs[0]\n",
        "    vel = obs[1]\n",
        "    pos_dis = (np.digitize(pos, pos_grid))\n",
        "    vel_dis = (np.digitize(vel, vel_grid))\n",
        "    return (pos_dis, vel_dis)\n",
        "def bestMove(Q_vals, s, a_list):\n",
        "    values = np.array([Q_vals[s,a] for a in a_list])\n",
        "    action = np.argmax(values)\n",
        "\n",
        "    return action\n",
        "\n"
      ]
    },
    {
      "cell_type": "code",
      "execution_count": null,
      "id": "0c39ccec",
      "metadata": {
        "colab": {
          "base_uri": "https://localhost:8080/"
        },
        "id": "0c39ccec",
        "outputId": "5cbaeeae-1433-43b5-8831-6b4fcfbecf6a"
      },
      "outputs": [
        {
          "output_type": "stream",
          "name": "stdout",
          "text": [
            "game  200 total reward  -817.0 epsilon 0.8666666666666591\n",
            "game  400 total reward  -2426.0 epsilon 0.7333333333333183\n",
            "game  600 total reward  -855.0 epsilon 0.5999999999999774\n",
            "game  800 total reward  -474.0 epsilon 0.4666666666666394\n",
            "game  1000 total reward  -278.0 epsilon 0.33333333333330967\n",
            "game  1200 total reward  -229.0 epsilon 0.1999999999999778\n",
            "game  1400 total reward  -151.0 epsilon 0.06666666666664373\n",
            "game  1600 total reward  -180.0 epsilon 0.01\n",
            "game  1800 total reward  -251.0 epsilon 0.01\n",
            "game  2000 total reward  -149.0 epsilon 0.01\n",
            "game  2200 total reward  -192.0 epsilon 0.01\n",
            "game  2400 total reward  -192.0 epsilon 0.01\n",
            "game  2600 total reward  -176.0 epsilon 0.01\n",
            "game  2800 total reward  -151.0 epsilon 0.01\n"
          ]
        }
      ],
      "source": [
        "\n",
        "env = gym.make('MountainCar-v0', new_step_api=True)\n",
        "env._max_episode_steps = 1000\n",
        "n_games = 3000\n",
        "alpha = 0.1\n",
        "gamma = 0.9\n",
        "epsilon = 1\n",
        "actions = [0, 1, 2]\n",
        "\n",
        "\n",
        "states = list()\n",
        "for pos in range(15):\n",
        "    for vel in range(20):\n",
        "        states.append((pos,vel))\n",
        "Q_values = {}\n",
        "for s in states:\n",
        "    for a in actions:\n",
        "        Q_values[s, a] = 0\n",
        "\n",
        "\n",
        "score = 0\n",
        "total_rewards = np.zeros(n_games)\n",
        "for i in range(n_games):\n",
        "    done = False\n",
        "    obs = env.reset()\n",
        "    s = discretize(obs, pos_grid, vel_grid)\n",
        "    if i % 200 == 0 and i > 0:\n",
        "        print('game #: ', i, 'total reward: ', score, 'epsilon:', epsilon)\n",
        "    score = 0\n",
        "    while not done:\n",
        "        a = np.random.choice([0,1,2]) if np.random.random() < epsilon \\\n",
        "                else bestMove(Q_values, s, actions)\n",
        "        obs_, reward, done, info, dic = env.step(a)\n",
        "        s_ = discretize(obs_, pos_grid, vel_grid)\n",
        "        score += reward\n",
        "        a_ = bestMove(Q_values, s_, actions)\n",
        "        Q_values[s, a] = Q_values[s, a] + \\\n",
        "                alpha*(reward + gamma*Q_values[s_, a_] - Q_values[s, a])\n",
        "        s = s_\n",
        "    total_rewards[i] = score\n",
        "    epsilon = epsilon - 2/n_games if epsilon > 0.01 else 0.01\n"
      ]
    },
    {
      "cell_type": "code",
      "execution_count": null,
      "id": "e12aa9f4",
      "metadata": {
        "colab": {
          "base_uri": "https://localhost:8080/",
          "height": 449
        },
        "id": "e12aa9f4",
        "outputId": "3dfc47c7-1e1a-4203-93bc-54437a5f5ae7"
      },
      "outputs": [
        {
          "output_type": "display_data",
          "data": {
            "text/plain": [
              "<Figure size 640x480 with 1 Axes>"
            ],
            "image/png": "[encoded data removed]"
          },
          "metadata": {}
        }
      ],
      "source": [
        "\n",
        "expected_rewards = np.zeros(n_games)\n",
        "for t in range(n_games):\n",
        "    expected_rewards[t] = np.mean(total_rewards[max(0, t-20):(t+1)])\n",
        "plt.plot(expected_rewards)\n",
        "plt.xlabel(\"Games\")\n",
        "plt.ylabel(\"Expected Reward\")\n",
        "plt.savefig('mountaincar.png')\n"
      ]
    }
  ],
  "metadata": {
    "kernelspec": {
      "display_name": "Python 3 (ipykernel)",
      "language": "python",
      "name": "python3"
    },
    "language_info": {
      "codemirror_mode": {
        "name": "ipython",
        "version": 3
      },
      "file_extension": ".py",
      "mimetype": "text/x-python",
      "name": "python",
      "nbconvert_exporter": "python",
      "pygments_lexer": "ipython3",
      "version": "3.11.5"
    },
    "colab": {
      "provenance": [],
      "include_colab_link": true
    }
  },
  "nbformat": 4,
  "nbformat_minor": 5
}