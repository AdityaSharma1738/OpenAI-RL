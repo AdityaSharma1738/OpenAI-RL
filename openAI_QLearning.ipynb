{
 "cells": [
  {
   "cell_type": "code",
   "execution_count": 1,
   "id": "5dbe62cf",
   "metadata": {},
   "outputs": [],
   "source": [
    "import numpy as np\n",
    "import gym\n",
    "import matplotlib.pyplot as plt"
   ]
  },
  {
   "cell_type": "code",
   "execution_count": 2,
   "id": "77c20141",
   "metadata": {},
   "outputs": [],
   "source": [
    "pos_grid = np.linspace(-1.2, 0.6, 15)\n",
    "vel_grid = np.linspace(-0.07, 0.07, 20)\n",
    "def discretize0(obs, pos_grid, vel_grid):\n",
    "    obs0 = obs[0]\n",
    "    pos = obs0[0]\n",
    "    vel = obs0[1]\n",
    "    pos_dis = (np.digitize(pos, pos_grid))\n",
    "    vel_dis = (np.digitize(vel, vel_grid))\n",
    "    return (pos_dis, vel_dis)\n",
    "\n",
    "def discretize(obs, pos_grid, vel_grid):\n",
    "    pos = obs[0]\n",
    "    vel = obs[1]\n",
    "    pos_dis = (np.digitize(pos, pos_grid))\n",
    "    vel_dis = (np.digitize(vel, vel_grid))\n",
    "    return (pos_dis, vel_dis)\n",
    "def bestMove(Q_vals, s, a_list):\n",
    "    values = np.array([Q_vals[s,a] for a in a_list])\n",
    "    action = np.argmax(values)\n",
    "\n",
    "    return action\n",
    "    \n"
   ]
  },
  {
   "cell_type": "code",
   "execution_count": 3,
   "id": "0c39ccec",
   "metadata": {},
   "outputs": [
    {
     "name": "stderr",
     "output_type": "stream",
     "text": [
      "/Users/adisharma/anaconda3/envs/q/lib/python3.11/site-packages/gym/utils/passive_env_checker.py:233: DeprecationWarning: `np.bool8` is a deprecated alias for `np.bool_`.  (Deprecated NumPy 1.24)\n",
      "  if not isinstance(terminated, (bool, np.bool8)):\n"
     ]
    },
    {
     "name": "stdout",
     "output_type": "stream",
     "text": [
      "episode  200 score  -11513.0 epsilon 0.920\n",
      "episode  400 score  -858.0 epsilon 0.840\n",
      "episode  600 score  -1030.0 epsilon 0.760\n",
      "episode  800 score  -628.0 epsilon 0.680\n",
      "episode  1000 score  -728.0 epsilon 0.600\n",
      "episode  1200 score  -313.0 epsilon 0.520\n",
      "episode  1400 score  -260.0 epsilon 0.440\n",
      "episode  1600 score  -156.0 epsilon 0.360\n",
      "episode  1800 score  -159.0 epsilon 0.280\n",
      "episode  2000 score  -330.0 epsilon 0.200\n",
      "episode  2200 score  -148.0 epsilon 0.120\n",
      "episode  2400 score  -187.0 epsilon 0.040\n",
      "episode  2600 score  -251.0 epsilon 0.010\n",
      "episode  2800 score  -160.0 epsilon 0.010\n",
      "episode  3000 score  -195.0 epsilon 0.010\n",
      "episode  3200 score  -148.0 epsilon 0.010\n",
      "episode  3400 score  -248.0 epsilon 0.010\n",
      "episode  3600 score  -165.0 epsilon 0.010\n",
      "episode  3800 score  -178.0 epsilon 0.010\n",
      "episode  4000 score  -157.0 epsilon 0.010\n",
      "episode  4200 score  -283.0 epsilon 0.010\n",
      "episode  4400 score  -227.0 epsilon 0.010\n",
      "episode  4600 score  -179.0 epsilon 0.010\n",
      "episode  4800 score  -208.0 epsilon 0.010\n"
     ]
    }
   ],
   "source": [
    "\n",
    "env = gym.make('MountainCar-v0')\n",
    "env._max_episode_steps = 1000\n",
    "n_games = 5000\n",
    "alpha = 0.1\n",
    "gamma = 0.9\n",
    "epsilon = 1\n",
    "actions = [0, 1, 2]\n",
    "\n",
    "\n",
    "states = list()\n",
    "for pos in range(15):\n",
    "    for vel in range(20):\n",
    "        states.append((pos,vel))\n",
    "Q_values = {}\n",
    "for s in states:\n",
    "    for a in actions:\n",
    "        Q_values[s, a] = 0\n",
    "\n",
    "\n",
    "score = 0\n",
    "total_rewards = np.zeros(n_games)\n",
    "for i in range(n_games):\n",
    "    done = False\n",
    "    obs = env.reset()\n",
    "    s = discretize0(obs, pos_grid, vel_grid)\n",
    "    if i % 200 == 0 and i > 0:\n",
    "        print('episode ', i, 'score ', score, 'epsilon %.3f' % epsilon)\n",
    "    score = 0\n",
    "    while not done:\n",
    "        a = np.random.choice([0,1,2]) if np.random.random() < epsilon \\\n",
    "                else bestMove(Q_values, s, actions)\n",
    "        obs_, reward, done, info, dic = env.step(a)\n",
    "        s_ = discretize(obs_, pos_grid, vel_grid)\n",
    "        score += reward\n",
    "        a_ = bestMove(Q_values, s_, actions)\n",
    "        Q_values[s, a] = Q_values[s, a] + \\\n",
    "                alpha*(reward + gamma*Q_values[s_, a_] - Q_values[s, a])\n",
    "        s = s_\n",
    "    total_rewards[i] = score\n",
    "    epsilon = epsilon - 2/n_games if epsilon > 0.01 else 0.01\n"
   ]
  },
  {
   "cell_type": "code",
   "execution_count": 5,
   "id": "e12aa9f4",
   "metadata": {},
   "outputs": [
    {
     "data": {
      "image/png": "[encoded data removed]",
      "text/plain": [
       "<Figure size 640x480 with 1 Axes>"
      ]
     },
     "metadata": {},
     "output_type": "display_data"
    }
   ],
   "source": [
    "\n",
    "mean_rewards = np.zeros(n_games)\n",
    "for t in range(n_games):\n",
    "    mean_rewards[t] = np.mean(total_rewards[max(0, t-10):(t+1)])\n",
    "plt.plot(mean_rewards)\n",
    "plt.xlabel(\"Games\")\n",
    "plt.ylabel(\"Expected Reward\")\n",
    "plt.savefig('mountaincar.png')\n"
   ]
  }
 ],
 "metadata": {
  "kernelspec": {
   "display_name": "Python 3 (ipykernel)",
   "language": "python",
   "name": "python3"
  },
  "language_info": {
   "codemirror_mode": {
    "name": "ipython",
    "version": 3
   },
   "file_extension": ".py",
   "mimetype": "text/x-python",
   "name": "python",
   "nbconvert_exporter": "python",
   "pygments_lexer": "ipython3",
   "version": "3.11.5"
  }
 },
 "nbformat": 4,
 "nbformat_minor": 5
}
